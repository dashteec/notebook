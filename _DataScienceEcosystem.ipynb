{
 "cells": [
  {
   "cell_type": "markdown",
   "id": "2136a696-4124-4357-beb0-4b3ccc3bd057",
   "metadata": {
    "tags": []
   },
   "source": [
    "<h1>Data Science Tools and Ecosystem</h1>\n"
   ]
  },
  {
   "cell_type": "markdown",
   "id": "26f16ffd-f8cf-4167-8ca6-6e96cee0bb34",
   "metadata": {
    "tags": []
   },
   "source": [
    "In this notebook, Data Science Tools and Ecosystem are summarized.\n"
   ]
  },
  {
   "cell_type": "markdown",
   "id": "1adbda67-8d5a-45a0-b23b-eb78948a3c07",
   "metadata": {},
   "source": [
    "<p>some of the popular languages that Data Scientists use are: </p> \n",
    "    <ol>\n",
    "  <li>python</li>\n",
    "  <li>R</li> \n",
    "  <li>Scala</li>  \n",
    "\n",
    "</ol> "
   ]
  },
  {
   "cell_type": "markdown",
   "id": "d8e1a3b3-3850-46da-8612-ceace10cb34e",
   "metadata": {
    "tags": []
   },
   "source": [
    "<p>Some of the commonly used libraries used by Data Scientists include: </p> \n",
    "<ol>\n",
    "  <li>numpy</li>\n",
    "  <li>pandas</li> \n",
    "  <li>seaborn</li>  \n",
    "\n",
    "</ol> "
   ]
  },
  {
   "cell_type": "markdown",
   "id": "f8462335-0d38-41fc-a658-745944a1e952",
   "metadata": {
    "tags": []
   },
   "source": [
    "<h2>Data Science Tools</h2>   \n",
    "<p>development environment open source tools used in data science.</p>\n",
    "<table>\n",
    "  <tr>\n",
    "    <th>Jupyter Notebooks</th> \n",
    "    <th>R Studio</th>   \n",
    "     <th>visual studio</th>     \n",
    "    \n",
    "  </tr> \n",
    "   "
   ]
  },
  {
   "cell_type": "markdown",
   "id": "c9f8ed5d-ce58-4340-b161-2d6ef30db24d",
   "metadata": {
    "tags": []
   },
   "source": [
    "<h3>Below are a few examples of evaluating arithmetic expressions in Python</h3>\n"
   ]
  },
  {
   "cell_type": "code",
   "execution_count": 8,
   "id": "2d861909-13a3-48ce-bd84-b33eb9ca7d88",
   "metadata": {
    "tags": []
   },
   "outputs": [
    {
     "data": {
      "text/plain": [
       "2"
      ]
     },
     "execution_count": 8,
     "metadata": {},
     "output_type": "execute_result"
    }
   ],
   "source": [
    "1*2"
   ]
  },
  {
   "cell_type": "code",
   "execution_count": 9,
   "id": "3b9308d0-47c9-4fc6-beff-febc0f0a0259",
   "metadata": {
    "tags": []
   },
   "outputs": [
    {
     "data": {
      "text/plain": [
       "15"
      ]
     },
     "execution_count": 9,
     "metadata": {},
     "output_type": "execute_result"
    }
   ],
   "source": [
    "3*5"
   ]
  },
  {
   "cell_type": "code",
   "execution_count": 10,
   "id": "76237cc0-e018-4640-b419-c3b2dfb4583e",
   "metadata": {
    "tags": []
   },
   "outputs": [
    {
     "data": {
      "text/plain": [
       "7"
      ]
     },
     "execution_count": 10,
     "metadata": {},
     "output_type": "execute_result"
    }
   ],
   "source": [
    "5+2"
   ]
  },
  {
   "cell_type": "code",
   "execution_count": 11,
   "id": "759ad030-5de4-467d-ad30-670f27319648",
   "metadata": {
    "tags": []
   },
   "outputs": [
    {
     "data": {
      "text/plain": [
       "18"
      ]
     },
     "execution_count": 11,
     "metadata": {},
     "output_type": "execute_result"
    }
   ],
   "source": [
    "8+10"
   ]
  },
  {
   "cell_type": "markdown",
   "id": "871b4466-af65-4286-93ee-9e653f720e6e",
   "metadata": {},
   "source": [
    "<h1>convert minutes to hours</h1> \n",
    "<p>This will convert 200 minutes to hours by diving by 60.<p>"
   ]
  },
  {
   "cell_type": "code",
   "execution_count": 15,
   "id": "5129cdbe-56c6-4052-b632-3fc62be6deca",
   "metadata": {
    "tags": []
   },
   "outputs": [
    {
     "data": {
      "text/plain": [
       "3.3333333333333335"
      ]
     },
     "execution_count": 15,
     "metadata": {},
     "output_type": "execute_result"
    }
   ],
   "source": [
    "200/60"
   ]
  },
  {
   "cell_type": "markdown",
   "id": "03096f07-2009-4bb6-97eb-9b279e8d4849",
   "metadata": {},
   "source": [
    "<h1> objectives </h1> \n",
    "  <ol>\n",
    "    <li> <h1>Languages used in data science </h1> </li> \n",
    "    <p> python-matlab-R</p>\n",
    "    <li><h1>Open source tools in data science and analysis</h1></li> \n",
    "    jupyter Notebooks\tR Studio\tvisual studio\n",
    "    <li><h1>The libraries used in the most prominent programming libraries are Python </h1> </li>  \n",
    "    numpy-pandas-seborn\n",
    "    <li><h1>Examples of using mathematical expressions </li> </h1> \n",
    "    multyplay-add\n",
    "\n",
    "</ol> "
   ]
  },
  {
   "cell_type": "markdown",
   "id": "6b0e4705-322b-4d17-af04-8c5f7859eeb5",
   "metadata": {},
   "source": [
    "<h3>Author</h3> \n",
    "yassen alobaidi"
   ]
  }
 ],
 "metadata": {
  "kernelspec": {
   "display_name": "Python",
   "language": "python",
   "name": "conda-env-python-py"
  },
  "language_info": {
   "codemirror_mode": {
    "name": "ipython",
    "version": 3
   },
   "file_extension": ".py",
   "mimetype": "text/x-python",
   "name": "python",
   "nbconvert_exporter": "python",
   "pygments_lexer": "ipython3",
   "version": "3.7.12"
  }
 },
 "nbformat": 4,
 "nbformat_minor": 5
}
